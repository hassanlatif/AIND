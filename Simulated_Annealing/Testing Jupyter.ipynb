{
 "cells": [
  {
   "cell_type": "code",
   "execution_count": 33,
   "metadata": {
    "collapsed": false
   },
   "outputs": [
    {
     "name": "stdout",
     "output_type": "stream",
     "text": [
      "Hello World\n"
     ]
    }
   ],
   "source": [
    "print(\"Hello World\")"
   ]
  },
  {
   "cell_type": "code",
   "execution_count": 3,
   "metadata": {
    "collapsed": false
   },
   "outputs": [
    {
     "name": "stdout",
     "output_type": "stream",
     "text": [
      "# packages in environment at C:\\Users\\IBM_ADMIN\\Anaconda3\\envs\\aind:\n",
      "#\n",
      "mkl                       2017.0.1                      0  \n",
      "numpy                     1.11.3                   py36_0  \n",
      "pip                       9.0.1                    py36_1  \n",
      "python                    3.6.0                         0  \n",
      "scikit-learn              0.18.1              np111py36_1  \n",
      "scipy                     0.18.1              np111py36_1  \n",
      "setuptools                27.2.0                   py36_1  \n",
      "vs2015_runtime            14.0.25123                    0  \n",
      "wheel                     0.29.0                   py36_0  \n"
     ]
    }
   ],
   "source": [
    "!conda list"
   ]
  },
  {
   "cell_type": "code",
   "execution_count": 7,
   "metadata": {
    "collapsed": false
   },
   "outputs": [
    {
     "name": "stdout",
     "output_type": "stream",
     "text": [
      " Volume in drive C has no label.\n",
      " Volume Serial Number is 2F9D-82CD\n",
      "\n",
      " Directory of C:\\Users\\IBM_ADMIN\\Desktop\\Code\\AIND\\AIND-Simulated_Annealing-master\n",
      "\n",
      "27-03-2017  04:23 PM    <DIR>          .\n",
      "27-03-2017  04:23 PM    <DIR>          ..\n",
      "27-03-2017  03:16 PM                20 .gitignore\n",
      "27-03-2017  04:21 PM    <DIR>          .ipynb_checkpoints\n",
      "27-03-2017  04:03 PM            23,372 AIND-Simulated_Annealing.ipynb\n",
      "27-03-2017  03:16 PM               854 capitals.json\n",
      "27-03-2017  03:16 PM           425,660 map.png\n",
      "27-03-2017  03:16 PM               446 MAP_LICENSE.md\n",
      "27-03-2017  03:16 PM               386 README.md\n",
      "27-03-2017  03:16 PM         1,125,635 SA_animation.gif\n",
      "27-03-2017  04:23 PM             2,117 Testing Jupyter.ipynb\n",
      "               8 File(s)      1,578,490 bytes\n",
      "               3 Dir(s)  306,552,963,072 bytes free\n"
     ]
    }
   ],
   "source": [
    "ls"
   ]
  }
 ],
 "metadata": {
  "kernelspec": {
   "display_name": "Python 3",
   "language": "python",
   "name": "python3"
  },
  "language_info": {
   "codemirror_mode": {
    "name": "ipython",
    "version": 3
   },
   "file_extension": ".py",
   "mimetype": "text/x-python",
   "name": "python",
   "nbconvert_exporter": "python",
   "pygments_lexer": "ipython3",
   "version": "3.6.0"
  }
 },
 "nbformat": 4,
 "nbformat_minor": 2
}
